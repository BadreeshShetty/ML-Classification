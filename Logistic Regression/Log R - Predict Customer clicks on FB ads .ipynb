{
 "cells": [
  {
   "cell_type": "markdown",
   "metadata": {},
   "source": [
    "### PROBLEM STATEMENT"
   ]
  },
  {
   "cell_type": "markdown",
   "metadata": {},
   "source": [
    "The company wants to anaylze customer behaviour by predicting which customer clicks on the advertisement. Customer data is as follows: \n",
    "Inputs: \n",
    "- Name \n",
    "- e-mail \n",
    "- Country \n",
    "- Time on Facebook \n",
    "- Estimated Salary (derived from other parameters)\n",
    "\n",
    "Outputs:\n",
    "- Click (1: customer clicked on Ad, 0: Customer did not click on the Ad)"
   ]
  },
  {
   "cell_type": "markdown",
   "metadata": {},
   "source": [
    "### Importing Libraries"
   ]
  },
  {
   "cell_type": "code",
   "execution_count": 1,
   "metadata": {
    "collapsed": true
   },
   "outputs": [],
   "source": [
    "import pandas as pd\n",
    "import numpy as np\n",
    "import matplotlib.pyplot as plt\n",
    "import seaborn as sns"
   ]
  },
  {
   "cell_type": "markdown",
   "metadata": {},
   "source": [
    "### Importing Dataset"
   ]
  },
  {
   "cell_type": "code",
   "execution_count": 2,
   "metadata": {
    "collapsed": true,
    "scrolled": false
   },
   "outputs": [],
   "source": [
    "# read the data using pandas dataframe\n",
    "training_set = pd.read_csv('Facebook_Ads_2.csv', encoding='ISO-8859-1')"
   ]
  },
  {
   "cell_type": "code",
   "execution_count": 3,
   "metadata": {},
   "outputs": [
    {
     "data": {
      "text/html": [
       "<div>\n",
       "<style scoped>\n",
       "    .dataframe tbody tr th:only-of-type {\n",
       "        vertical-align: middle;\n",
       "    }\n",
       "\n",
       "    .dataframe tbody tr th {\n",
       "        vertical-align: top;\n",
       "    }\n",
       "\n",
       "    .dataframe thead th {\n",
       "        text-align: right;\n",
       "    }\n",
       "</style>\n",
       "<table border=\"1\" class=\"dataframe\">\n",
       "  <thead>\n",
       "    <tr style=\"text-align: right;\">\n",
       "      <th></th>\n",
       "      <th>Names</th>\n",
       "      <th>emails</th>\n",
       "      <th>Country</th>\n",
       "      <th>Time Spent on Site</th>\n",
       "      <th>Salary</th>\n",
       "      <th>Clicked</th>\n",
       "    </tr>\n",
       "  </thead>\n",
       "  <tbody>\n",
       "    <tr>\n",
       "      <th>0</th>\n",
       "      <td>Martina Avila</td>\n",
       "      <td>cubilia.Curae.Phasellus@quisaccumsanconvallis.edu</td>\n",
       "      <td>Bulgaria</td>\n",
       "      <td>25.649648</td>\n",
       "      <td>55330.06006</td>\n",
       "      <td>0</td>\n",
       "    </tr>\n",
       "    <tr>\n",
       "      <th>1</th>\n",
       "      <td>Harlan Barnes</td>\n",
       "      <td>eu.dolor@diam.co.uk</td>\n",
       "      <td>Belize</td>\n",
       "      <td>32.456107</td>\n",
       "      <td>79049.07674</td>\n",
       "      <td>1</td>\n",
       "    </tr>\n",
       "    <tr>\n",
       "      <th>2</th>\n",
       "      <td>Naomi Rodriquez</td>\n",
       "      <td>vulputate.mauris.sagittis@ametconsectetueradip...</td>\n",
       "      <td>Algeria</td>\n",
       "      <td>20.945978</td>\n",
       "      <td>41098.60826</td>\n",
       "      <td>0</td>\n",
       "    </tr>\n",
       "    <tr>\n",
       "      <th>3</th>\n",
       "      <td>Jade Cunningham</td>\n",
       "      <td>malesuada@dignissim.com</td>\n",
       "      <td>Cook Islands</td>\n",
       "      <td>54.039325</td>\n",
       "      <td>37143.35536</td>\n",
       "      <td>1</td>\n",
       "    </tr>\n",
       "    <tr>\n",
       "      <th>4</th>\n",
       "      <td>Cedric Leach</td>\n",
       "      <td>felis.ullamcorper.viverra@egetmollislectus.net</td>\n",
       "      <td>Brazil</td>\n",
       "      <td>34.249729</td>\n",
       "      <td>37355.11276</td>\n",
       "      <td>0</td>\n",
       "    </tr>\n",
       "  </tbody>\n",
       "</table>\n",
       "</div>"
      ],
      "text/plain": [
       "             Names                                             emails  \\\n",
       "0    Martina Avila  cubilia.Curae.Phasellus@quisaccumsanconvallis.edu   \n",
       "1    Harlan Barnes                                eu.dolor@diam.co.uk   \n",
       "2  Naomi Rodriquez  vulputate.mauris.sagittis@ametconsectetueradip...   \n",
       "3  Jade Cunningham                            malesuada@dignissim.com   \n",
       "4     Cedric Leach     felis.ullamcorper.viverra@egetmollislectus.net   \n",
       "\n",
       "        Country  Time Spent on Site       Salary  Clicked  \n",
       "0      Bulgaria           25.649648  55330.06006        0  \n",
       "1        Belize           32.456107  79049.07674        1  \n",
       "2       Algeria           20.945978  41098.60826        0  \n",
       "3  Cook Islands           54.039325  37143.35536        1  \n",
       "4        Brazil           34.249729  37355.11276        0  "
      ]
     },
     "execution_count": 3,
     "metadata": {},
     "output_type": "execute_result"
    }
   ],
   "source": [
    "training_set.head()"
   ]
  },
  {
   "cell_type": "code",
   "execution_count": 4,
   "metadata": {},
   "outputs": [
    {
     "data": {
      "text/html": [
       "<div>\n",
       "<style scoped>\n",
       "    .dataframe tbody tr th:only-of-type {\n",
       "        vertical-align: middle;\n",
       "    }\n",
       "\n",
       "    .dataframe tbody tr th {\n",
       "        vertical-align: top;\n",
       "    }\n",
       "\n",
       "    .dataframe thead th {\n",
       "        text-align: right;\n",
       "    }\n",
       "</style>\n",
       "<table border=\"1\" class=\"dataframe\">\n",
       "  <thead>\n",
       "    <tr style=\"text-align: right;\">\n",
       "      <th></th>\n",
       "      <th>Names</th>\n",
       "      <th>emails</th>\n",
       "      <th>Country</th>\n",
       "      <th>Time Spent on Site</th>\n",
       "      <th>Salary</th>\n",
       "      <th>Clicked</th>\n",
       "    </tr>\n",
       "  </thead>\n",
       "  <tbody>\n",
       "    <tr>\n",
       "      <th>494</th>\n",
       "      <td>Rigel</td>\n",
       "      <td>egestas.blandit.Nam@semvitaealiquam.com</td>\n",
       "      <td>Sao Tome and Principe</td>\n",
       "      <td>19.222746</td>\n",
       "      <td>44969.13495</td>\n",
       "      <td>0</td>\n",
       "    </tr>\n",
       "    <tr>\n",
       "      <th>495</th>\n",
       "      <td>Walter</td>\n",
       "      <td>ligula@Cumsociis.ca</td>\n",
       "      <td>Nepal</td>\n",
       "      <td>22.665662</td>\n",
       "      <td>41686.20425</td>\n",
       "      <td>0</td>\n",
       "    </tr>\n",
       "    <tr>\n",
       "      <th>496</th>\n",
       "      <td>Vanna</td>\n",
       "      <td>Cum.sociis.natoque@Sedmolestie.edu</td>\n",
       "      <td>Zimbabwe</td>\n",
       "      <td>35.320239</td>\n",
       "      <td>23989.80864</td>\n",
       "      <td>0</td>\n",
       "    </tr>\n",
       "    <tr>\n",
       "      <th>497</th>\n",
       "      <td>Pearl</td>\n",
       "      <td>penatibus.et@massanonante.com</td>\n",
       "      <td>Philippines</td>\n",
       "      <td>26.539170</td>\n",
       "      <td>31708.57054</td>\n",
       "      <td>0</td>\n",
       "    </tr>\n",
       "    <tr>\n",
       "      <th>498</th>\n",
       "      <td>Nell</td>\n",
       "      <td>Quisque.varius@arcuVivamussit.net</td>\n",
       "      <td>Botswana</td>\n",
       "      <td>32.386148</td>\n",
       "      <td>74331.35442</td>\n",
       "      <td>1</td>\n",
       "    </tr>\n",
       "  </tbody>\n",
       "</table>\n",
       "</div>"
      ],
      "text/plain": [
       "      Names                                   emails                Country  \\\n",
       "494   Rigel  egestas.blandit.Nam@semvitaealiquam.com  Sao Tome and Principe   \n",
       "495  Walter                      ligula@Cumsociis.ca                  Nepal   \n",
       "496   Vanna       Cum.sociis.natoque@Sedmolestie.edu               Zimbabwe   \n",
       "497   Pearl            penatibus.et@massanonante.com            Philippines   \n",
       "498    Nell        Quisque.varius@arcuVivamussit.net               Botswana   \n",
       "\n",
       "     Time Spent on Site       Salary  Clicked  \n",
       "494           19.222746  44969.13495        0  \n",
       "495           22.665662  41686.20425        0  \n",
       "496           35.320239  23989.80864        0  \n",
       "497           26.539170  31708.57054        0  \n",
       "498           32.386148  74331.35442        1  "
      ]
     },
     "execution_count": 4,
     "metadata": {},
     "output_type": "execute_result"
    }
   ],
   "source": [
    "training_set.tail()"
   ]
  },
  {
   "cell_type": "markdown",
   "metadata": {},
   "source": [
    "### EDA"
   ]
  },
  {
   "cell_type": "code",
   "execution_count": 5,
   "metadata": {
    "collapsed": true
   },
   "outputs": [],
   "source": [
    "click    = training_set[training_set['Clicked']==1]\n",
    "no_click = training_set[training_set['Clicked']==0]"
   ]
  },
  {
   "cell_type": "code",
   "execution_count": 6,
   "metadata": {},
   "outputs": [
    {
     "name": "stdout",
     "output_type": "stream",
     "text": [
      "Total = 499\n",
      "Number of customers who clicked on Ad = 250\n",
      "Percentage Clicked = 50.1002004008016 %\n",
      "Did not Click = 249\n",
      "Percentage who did not Click = 49.899799599198396 %\n"
     ]
    }
   ],
   "source": [
    "print(\"Total =\", len(training_set))\n",
    "print(\"Number of customers who clicked on Ad =\", len(click))\n",
    "print(\"Percentage Clicked =\", 1.*len(click)/len(training_set)*100.0, \"%\")\n",
    "print(\"Did not Click =\", len(no_click))\n",
    "print(\"Percentage who did not Click =\", 1.*len(no_click)/len(training_set)*100.0, \"%\")        "
   ]
  },
  {
   "cell_type": "code",
   "execution_count": 7,
   "metadata": {},
   "outputs": [
    {
     "data": {
      "image/png": "[encoded data removed]",
      "text/plain": [
       "<matplotlib.figure.Figure at 0x2205170c048>"
      ]
     },
     "metadata": {},
     "output_type": "display_data"
    }
   ],
   "source": [
    "sns.scatterplot(training_set['Time Spent on Site'], training_set['Salary'], hue = training_set['Clicked'])\n",
    "plt.show()"
   ]
  },
  {
   "cell_type": "code",
   "execution_count": 8,
   "metadata": {},
   "outputs": [
    {
     "data": {
      "image/png": "[encoded data removed]",
      "text/plain": [
       "<matplotlib.figure.Figure at 0x2205170ceb8>"
      ]
     },
     "metadata": {},
     "output_type": "display_data"
    }
   ],
   "source": [
    "plt.figure(figsize=(5, 5))\n",
    "sns.boxplot(x='Clicked', y='Salary',data=training_set)\n",
    "plt.show()"
   ]
  },
  {
   "cell_type": "code",
   "execution_count": 9,
   "metadata": {},
   "outputs": [
    {
     "data": {
      "image/png": "[encoded data removed]",
      "text/plain": [
       "<matplotlib.figure.Figure at 0x22051ba4240>"
      ]
     },
     "metadata": {},
     "output_type": "display_data"
    }
   ],
   "source": [
    "plt.figure(figsize=(5, 5))\n",
    "sns.boxplot(x='Clicked', y='Time Spent on Site',data=training_set)\n",
    "plt.show()"
   ]
  },
  {
   "cell_type": "code",
   "execution_count": 10,
   "metadata": {},
   "outputs": [
    {
     "data": {
      "image/png": "[encoded data removed]",
      "text/plain": [
       "<matplotlib.figure.Figure at 0x220517be438>"
      ]
     },
     "metadata": {},
     "output_type": "display_data"
    }
   ],
   "source": [
    "training_set['Salary'].hist(bins = 40)\n",
    "plt.show()"
   ]
  },
  {
   "cell_type": "code",
   "execution_count": 11,
   "metadata": {},
   "outputs": [
    {
     "data": {
      "image/png": "[encoded data removed]",
      "text/plain": [
       "<matplotlib.figure.Figure at 0x220517c5dd8>"
      ]
     },
     "metadata": {},
     "output_type": "display_data"
    }
   ],
   "source": [
    "training_set['Time Spent on Site'].hist(bins = 20)\n",
    "plt.show()"
   ]
  },
  {
   "cell_type": "markdown",
   "metadata": {},
   "source": [
    "### Data Cleaning"
   ]
  },
  {
   "cell_type": "code",
   "execution_count": 12,
   "metadata": {},
   "outputs": [
    {
     "data": {
      "text/html": [
       "<div>\n",
       "<style scoped>\n",
       "    .dataframe tbody tr th:only-of-type {\n",
       "        vertical-align: middle;\n",
       "    }\n",
       "\n",
       "    .dataframe tbody tr th {\n",
       "        vertical-align: top;\n",
       "    }\n",
       "\n",
       "    .dataframe thead th {\n",
       "        text-align: right;\n",
       "    }\n",
       "</style>\n",
       "<table border=\"1\" class=\"dataframe\">\n",
       "  <thead>\n",
       "    <tr style=\"text-align: right;\">\n",
       "      <th></th>\n",
       "      <th>Names</th>\n",
       "      <th>emails</th>\n",
       "      <th>Country</th>\n",
       "      <th>Time Spent on Site</th>\n",
       "      <th>Salary</th>\n",
       "      <th>Clicked</th>\n",
       "    </tr>\n",
       "  </thead>\n",
       "  <tbody>\n",
       "    <tr>\n",
       "      <th>0</th>\n",
       "      <td>Martina Avila</td>\n",
       "      <td>cubilia.Curae.Phasellus@quisaccumsanconvallis.edu</td>\n",
       "      <td>Bulgaria</td>\n",
       "      <td>25.649648</td>\n",
       "      <td>55330.06006</td>\n",
       "      <td>0</td>\n",
       "    </tr>\n",
       "    <tr>\n",
       "      <th>1</th>\n",
       "      <td>Harlan Barnes</td>\n",
       "      <td>eu.dolor@diam.co.uk</td>\n",
       "      <td>Belize</td>\n",
       "      <td>32.456107</td>\n",
       "      <td>79049.07674</td>\n",
       "      <td>1</td>\n",
       "    </tr>\n",
       "    <tr>\n",
       "      <th>2</th>\n",
       "      <td>Naomi Rodriquez</td>\n",
       "      <td>vulputate.mauris.sagittis@ametconsectetueradip...</td>\n",
       "      <td>Algeria</td>\n",
       "      <td>20.945978</td>\n",
       "      <td>41098.60826</td>\n",
       "      <td>0</td>\n",
       "    </tr>\n",
       "    <tr>\n",
       "      <th>3</th>\n",
       "      <td>Jade Cunningham</td>\n",
       "      <td>malesuada@dignissim.com</td>\n",
       "      <td>Cook Islands</td>\n",
       "      <td>54.039325</td>\n",
       "      <td>37143.35536</td>\n",
       "      <td>1</td>\n",
       "    </tr>\n",
       "    <tr>\n",
       "      <th>4</th>\n",
       "      <td>Cedric Leach</td>\n",
       "      <td>felis.ullamcorper.viverra@egetmollislectus.net</td>\n",
       "      <td>Brazil</td>\n",
       "      <td>34.249729</td>\n",
       "      <td>37355.11276</td>\n",
       "      <td>0</td>\n",
       "    </tr>\n",
       "  </tbody>\n",
       "</table>\n",
       "</div>"
      ],
      "text/plain": [
       "             Names                                             emails  \\\n",
       "0    Martina Avila  cubilia.Curae.Phasellus@quisaccumsanconvallis.edu   \n",
       "1    Harlan Barnes                                eu.dolor@diam.co.uk   \n",
       "2  Naomi Rodriquez  vulputate.mauris.sagittis@ametconsectetueradip...   \n",
       "3  Jade Cunningham                            malesuada@dignissim.com   \n",
       "4     Cedric Leach     felis.ullamcorper.viverra@egetmollislectus.net   \n",
       "\n",
       "        Country  Time Spent on Site       Salary  Clicked  \n",
       "0      Bulgaria           25.649648  55330.06006        0  \n",
       "1        Belize           32.456107  79049.07674        1  \n",
       "2       Algeria           20.945978  41098.60826        0  \n",
       "3  Cook Islands           54.039325  37143.35536        1  \n",
       "4        Brazil           34.249729  37355.11276        0  "
      ]
     },
     "execution_count": 12,
     "metadata": {},
     "output_type": "execute_result"
    }
   ],
   "source": [
    "training_set.head()"
   ]
  },
  {
   "cell_type": "code",
   "execution_count": 13,
   "metadata": {},
   "outputs": [
    {
     "data": {
      "text/plain": [
       "Names                 0\n",
       "emails                0\n",
       "Country               0\n",
       "Time Spent on Site    0\n",
       "Salary                0\n",
       "Clicked               0\n",
       "dtype: int64"
      ]
     },
     "execution_count": 13,
     "metadata": {},
     "output_type": "execute_result"
    }
   ],
   "source": [
    "training_set.isnull().sum()"
   ]
  },
  {
   "cell_type": "code",
   "execution_count": 14,
   "metadata": {
    "collapsed": true
   },
   "outputs": [],
   "source": [
    "# Drop emails, country and names\n",
    "training_set.drop(['Names', 'emails', 'Country'],axis=1,inplace=True)"
   ]
  },
  {
   "cell_type": "code",
   "execution_count": 15,
   "metadata": {},
   "outputs": [
    {
     "data": {
      "text/html": [
       "<div>\n",
       "<style scoped>\n",
       "    .dataframe tbody tr th:only-of-type {\n",
       "        vertical-align: middle;\n",
       "    }\n",
       "\n",
       "    .dataframe tbody tr th {\n",
       "        vertical-align: top;\n",
       "    }\n",
       "\n",
       "    .dataframe thead th {\n",
       "        text-align: right;\n",
       "    }\n",
       "</style>\n",
       "<table border=\"1\" class=\"dataframe\">\n",
       "  <thead>\n",
       "    <tr style=\"text-align: right;\">\n",
       "      <th></th>\n",
       "      <th>Time Spent on Site</th>\n",
       "      <th>Salary</th>\n",
       "      <th>Clicked</th>\n",
       "    </tr>\n",
       "  </thead>\n",
       "  <tbody>\n",
       "    <tr>\n",
       "      <th>0</th>\n",
       "      <td>25.649648</td>\n",
       "      <td>55330.06006</td>\n",
       "      <td>0</td>\n",
       "    </tr>\n",
       "    <tr>\n",
       "      <th>1</th>\n",
       "      <td>32.456107</td>\n",
       "      <td>79049.07674</td>\n",
       "      <td>1</td>\n",
       "    </tr>\n",
       "    <tr>\n",
       "      <th>2</th>\n",
       "      <td>20.945978</td>\n",
       "      <td>41098.60826</td>\n",
       "      <td>0</td>\n",
       "    </tr>\n",
       "    <tr>\n",
       "      <th>3</th>\n",
       "      <td>54.039325</td>\n",
       "      <td>37143.35536</td>\n",
       "      <td>1</td>\n",
       "    </tr>\n",
       "    <tr>\n",
       "      <th>4</th>\n",
       "      <td>34.249729</td>\n",
       "      <td>37355.11276</td>\n",
       "      <td>0</td>\n",
       "    </tr>\n",
       "  </tbody>\n",
       "</table>\n",
       "</div>"
      ],
      "text/plain": [
       "   Time Spent on Site       Salary  Clicked\n",
       "0           25.649648  55330.06006        0\n",
       "1           32.456107  79049.07674        1\n",
       "2           20.945978  41098.60826        0\n",
       "3           54.039325  37143.35536        1\n",
       "4           34.249729  37355.11276        0"
      ]
     },
     "execution_count": 15,
     "metadata": {},
     "output_type": "execute_result"
    }
   ],
   "source": [
    "training_set.head()"
   ]
  },
  {
   "cell_type": "markdown",
   "metadata": {},
   "source": [
    "### Logistic Regression Model"
   ]
  },
  {
   "cell_type": "code",
   "execution_count": 16,
   "metadata": {
    "collapsed": true
   },
   "outputs": [],
   "source": [
    "# Drop the target column\n",
    "X = training_set.drop('Clicked',axis=1).values\n",
    "y = training_set['Clicked'].values"
   ]
  },
  {
   "cell_type": "code",
   "execution_count": 17,
   "metadata": {
    "collapsed": true
   },
   "outputs": [],
   "source": [
    "# Feature Scaling\n",
    "from sklearn.preprocessing import StandardScaler\n",
    "sc = StandardScaler()\n",
    "X = sc.fit_transform(X)"
   ]
  },
  {
   "cell_type": "code",
   "execution_count": 18,
   "metadata": {
    "collapsed": true
   },
   "outputs": [],
   "source": [
    "from sklearn.model_selection import train_test_split\n",
    "X_train, X_test, y_train, y_test = train_test_split(X, y, test_size=0.2, random_state=42)"
   ]
  },
  {
   "cell_type": "code",
   "execution_count": 19,
   "metadata": {},
   "outputs": [
    {
     "name": "stderr",
     "output_type": "stream",
     "text": [
      "C:\\Users\\Dell\\Anaconda3\\lib\\site-packages\\sklearn\\linear_model\\logistic.py:432: FutureWarning: Default solver will be changed to 'lbfgs' in 0.22. Specify a solver to silence this warning.\n",
      "  FutureWarning)\n"
     ]
    },
    {
     "data": {
      "text/plain": [
       "LogisticRegression(C=1.0, class_weight=None, dual=False, fit_intercept=True,\n",
       "          intercept_scaling=1, max_iter=100, multi_class='warn',\n",
       "          n_jobs=None, penalty='l2', random_state=42, solver='warn',\n",
       "          tol=0.0001, verbose=0, warm_start=False)"
      ]
     },
     "execution_count": 19,
     "metadata": {},
     "output_type": "execute_result"
    }
   ],
   "source": [
    "# Fitting Logistic Regression to the Training set\n",
    "from sklearn.linear_model import LogisticRegression\n",
    "lr = LogisticRegression(random_state = 42)\n",
    "lr.fit(X_train, y_train)"
   ]
  },
  {
   "cell_type": "code",
   "execution_count": 20,
   "metadata": {},
   "outputs": [
    {
     "data": {
      "text/plain": [
       "array([0, 0, 1, 0, 1, 1, 0, 0, 1, 0, 1, 1, 1, 0, 0, 1, 0, 1, 0, 0, 0, 1, 0,\n",
       "       0, 0, 0, 0, 1, 0, 1, 0, 0, 0, 0, 0, 1, 0, 0, 1, 1, 0, 1, 0, 0, 0, 0,\n",
       "       1, 1, 1, 1, 0, 0, 0, 0, 1, 0, 1, 0, 1, 0, 0, 1, 1, 0, 0, 0, 1, 0, 0,\n",
       "       0, 1, 1, 1, 1, 0, 1, 1, 0, 0, 1, 0, 0, 1, 0, 1, 0, 1, 1, 1, 1, 0, 1,\n",
       "       1, 1, 0, 1, 0, 0, 1, 1], dtype=int64)"
      ]
     },
     "execution_count": 20,
     "metadata": {},
     "output_type": "execute_result"
    }
   ],
   "source": [
    "y_predict = lr.predict(X_test)\n",
    "y_predict"
   ]
  },
  {
   "cell_type": "code",
   "execution_count": 21,
   "metadata": {},
   "outputs": [
    {
     "data": {
      "image/png": "[encoded data removed]",
      "text/plain": [
       "<matplotlib.figure.Figure at 0x220523c37f0>"
      ]
     },
     "metadata": {},
     "output_type": "display_data"
    }
   ],
   "source": [
    "from sklearn.metrics import classification_report,confusion_matrix\n",
    "cm = confusion_matrix(y_test, y_predict)\n",
    "sns.heatmap(cm, annot=True, fmt=\"d\")\n",
    "plt.show()"
   ]
  },
  {
   "cell_type": "code",
   "execution_count": 22,
   "metadata": {},
   "outputs": [
    {
     "name": "stdout",
     "output_type": "stream",
     "text": [
      "              precision    recall  f1-score   support\n",
      "\n",
      "           0       0.98      0.89      0.93        61\n",
      "           1       0.84      0.97      0.90        39\n",
      "\n",
      "   micro avg       0.92      0.92      0.92       100\n",
      "   macro avg       0.91      0.93      0.92       100\n",
      "weighted avg       0.93      0.92      0.92       100\n",
      "\n"
     ]
    }
   ],
   "source": [
    "from sklearn.metrics import classification_report\n",
    "print(classification_report(y_test, y_predict))"
   ]
  },
  {
   "cell_type": "markdown",
   "metadata": {},
   "source": [
    "### Visualizing Training and Testing Datasets"
   ]
  },
  {
   "cell_type": "code",
   "execution_count": 23,
   "metadata": {},
   "outputs": [
    {
     "name": "stdout",
     "output_type": "stream",
     "text": [
      "(399, 2) (399,)\n"
     ]
    }
   ],
   "source": [
    "print(X_train.shape,y_train.shape)"
   ]
  },
  {
   "cell_type": "code",
   "execution_count": 24,
   "metadata": {},
   "outputs": [
    {
     "data": {
      "image/png": "[encoded data removed]",
      "text/plain": [
       "<matplotlib.figure.Figure at 0x220525bfba8>"
      ]
     },
     "metadata": {},
     "output_type": "display_data"
    }
   ],
   "source": [
    "# Visualising the Training set results\n",
    "from matplotlib.colors import ListedColormap\n",
    "X_set, y_set = X_train, y_train\n",
    "X1, X2 = np.meshgrid(np.arange(start = X_set[:, 0].min() - 1, stop = X_set[:, 0].max() + 1, step = 0.01),\n",
    "                     np.arange(start = X_set[:, 1].min() - 1, stop = X_set[:, 1].max() + 1, step = 0.01))\n",
    "plt.contourf(X1, X2, lr.predict(np.array([X1.ravel(), X2.ravel()]).T).reshape(X1.shape),\n",
    "             alpha = 0.75, cmap = ListedColormap(('magenta', 'blue')))\n",
    "plt.xlim(X1.min(), X1.max())\n",
    "plt.ylim(X2.min(), X2.max())\n",
    "for i, j in enumerate(np.unique(y_set)):\n",
    "    plt.scatter(X_set[y_set == j, 0], X_set[y_set == j, 1],\n",
    "                c = ListedColormap(('magenta', 'blue'))(i), label = j)\n",
    "plt.title('Facebook Ad: Customer Click Prediction (Training set)')\n",
    "plt.xlabel('Time Spent on Site')\n",
    "plt.ylabel('Estimated Salary')\n",
    "plt.legend()\n",
    "plt.show()"
   ]
  },
  {
   "cell_type": "code",
   "execution_count": 25,
   "metadata": {},
   "outputs": [
    {
     "data": {
      "image/png": "[encoded data removed]",
      "text/plain": [
       "<matplotlib.figure.Figure at 0x220524a62b0>"
      ]
     },
     "metadata": {},
     "output_type": "display_data"
    }
   ],
   "source": [
    "# Visualising the Testing set results\n",
    "from matplotlib.colors import ListedColormap\n",
    "X_set, y_set = X_test, y_test\n",
    "X1, X2 = np.meshgrid(np.arange(start = X_set[:, 0].min() - 1, stop = X_set[:, 0].max() + 1, step = 0.01),\n",
    "                     np.arange(start = X_set[:, 1].min() - 1, stop = X_set[:, 1].max() + 1, step = 0.01))\n",
    "plt.contourf(X1, X2, lr.predict(np.array([X1.ravel(), X2.ravel()]).T).reshape(X1.shape),\n",
    "             alpha = 0.75, cmap = ListedColormap(('magenta', 'blue')))\n",
    "plt.xlim(X1.min(), X1.max())\n",
    "plt.ylim(X2.min(), X2.max())\n",
    "for i, j in enumerate(np.unique(y_set)):\n",
    "    plt.scatter(X_set[y_set == j, 0], X_set[y_set == j, 1],\n",
    "                c = ListedColormap(('magenta', 'blue'))(i), label = j)\n",
    "plt.title('Facebook Ad: Customer Click Prediction (Testing set)')\n",
    "plt.xlabel('Time Spent on Site')\n",
    "plt.ylabel('Estimated Salary')\n",
    "plt.legend()\n",
    "plt.show()"
   ]
  }
 ],
 "metadata": {
  "kernelspec": {
   "display_name": "Python 3",
   "language": "python",
   "name": "python3"
  },
  "language_info": {
   "codemirror_mode": {
    "name": "ipython",
    "version": 3
   },
   "file_extension": ".py",
   "mimetype": "text/x-python",
   "name": "python",
   "nbconvert_exporter": "python",
   "pygments_lexer": "ipython3",
   "version": "3.6.3"
  },
  "widgets": {
   "state": {},
   "version": "1.1.2"
  }
 },
 "nbformat": 4,
 "nbformat_minor": 1
}
